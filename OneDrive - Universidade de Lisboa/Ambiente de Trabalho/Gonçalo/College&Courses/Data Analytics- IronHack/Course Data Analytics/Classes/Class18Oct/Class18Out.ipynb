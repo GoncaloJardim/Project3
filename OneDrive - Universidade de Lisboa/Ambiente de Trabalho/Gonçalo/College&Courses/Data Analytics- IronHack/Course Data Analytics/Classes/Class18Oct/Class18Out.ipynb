{
 "cells": [
  {
   "cell_type": "code",
   "execution_count": 2,
   "id": "b72d6de8",
   "metadata": {},
   "outputs": [
    {
     "name": "stdout",
     "output_type": "stream",
     "text": [
      "Hello class!\n"
     ]
    }
   ],
   "source": [
    "print('Hello class!')\n"
   ]
  },
  {
   "cell_type": "code",
   "execution_count": 3,
   "id": "a86ed4bd",
   "metadata": {},
   "outputs": [],
   "source": [
    "#variables, native types and basic operations"
   ]
  },
  {
   "cell_type": "code",
   "execution_count": 9,
   "id": "dddfe3a8",
   "metadata": {},
   "outputs": [
    {
     "name": "stdout",
     "output_type": "stream",
     "text": [
      "3\n"
     ]
    },
    {
     "data": {
      "text/plain": [
       "4"
      ]
     },
     "metadata": {},
     "output_type": "display_data"
    }
   ],
   "source": [
    "# - comenting\n",
    "a = 2\n",
    "b = 3\n",
    "c = 4  #(this are integers; números inteiros)\n",
    "\n",
    "d= True\n",
    "e= False  #(these are boolians;)\n",
    "\n",
    "f= 2.37 #(this is a float)\n",
    "\n",
    "g='Hello'  #(this are strings)\n",
    "\n",
    "print(b) #most used way;\n",
    "display(c) #also used to see;"
   ]
  },
  {
   "cell_type": "code",
   "execution_count": 14,
   "id": "5444b83a",
   "metadata": {},
   "outputs": [
    {
     "name": "stdout",
     "output_type": "stream",
     "text": [
      "value a is equal to 4\n"
     ]
    }
   ],
   "source": [
    "a=2\n",
    "a = a + a\n",
    "print('value a is equal to' , a)  #assign a certain variable to the same variable"
   ]
  },
  {
   "cell_type": "code",
   "execution_count": 15,
   "id": "a125f1e9",
   "metadata": {},
   "outputs": [
    {
     "name": "stdout",
     "output_type": "stream",
     "text": [
      "hello2\n"
     ]
    }
   ],
   "source": [
    "a= 'hello'\n",
    "a = a + '2'\n",
    "print(a)               #to mix strings with strings; "
   ]
  },
  {
   "cell_type": "code",
   "execution_count": 17,
   "id": "05ca946f",
   "metadata": {},
   "outputs": [
    {
     "data": {
      "text/plain": [
       "str"
      ]
     },
     "execution_count": 17,
     "metadata": {},
     "output_type": "execute_result"
    }
   ],
   "source": [
    "type('Hello')   #to understand the typy of variable"
   ]
  },
  {
   "cell_type": "code",
   "execution_count": 18,
   "id": "3761dda5",
   "metadata": {},
   "outputs": [
    {
     "data": {
      "text/plain": [
       "float"
      ]
     },
     "execution_count": 18,
     "metadata": {},
     "output_type": "execute_result"
    }
   ],
   "source": [
    "type(2.14)"
   ]
  },
  {
   "cell_type": "code",
   "execution_count": 19,
   "id": "d41bcbed",
   "metadata": {},
   "outputs": [
    {
     "data": {
      "text/plain": [
       "int"
      ]
     },
     "execution_count": 19,
     "metadata": {},
     "output_type": "execute_result"
    }
   ],
   "source": [
    "type(-1)"
   ]
  },
  {
   "cell_type": "code",
   "execution_count": 20,
   "id": "99004640",
   "metadata": {},
   "outputs": [
    {
     "data": {
      "text/plain": [
       "'HELLO'"
      ]
     },
     "execution_count": 20,
     "metadata": {},
     "output_type": "execute_result"
    }
   ],
   "source": [
    "a = 'hello'\n",
    "a.upper()   #uppercase all the string , can also use lower or title (only capital letters)"
   ]
  },
  {
   "cell_type": "code",
   "execution_count": 21,
   "id": "e0e7355e",
   "metadata": {},
   "outputs": [
    {
     "ename": "AttributeError",
     "evalue": "'int' object has no attribute 'upper'",
     "output_type": "error",
     "traceback": [
      "\u001b[1;31m---------------------------------------------------------------------------\u001b[0m",
      "\u001b[1;31mAttributeError\u001b[0m                            Traceback (most recent call last)",
      "\u001b[1;32m<ipython-input-21-d9c90fb32062>\u001b[0m in \u001b[0;36m<module>\u001b[1;34m\u001b[0m\n\u001b[0;32m      1\u001b[0m \u001b[0ma\u001b[0m\u001b[1;33m=\u001b[0m\u001b[1;36m2\u001b[0m\u001b[1;33m\u001b[0m\u001b[1;33m\u001b[0m\u001b[0m\n\u001b[1;32m----> 2\u001b[1;33m \u001b[0ma\u001b[0m\u001b[1;33m.\u001b[0m\u001b[0mupper\u001b[0m\u001b[1;33m(\u001b[0m\u001b[1;33m)\u001b[0m\u001b[1;33m\u001b[0m\u001b[1;33m\u001b[0m\u001b[0m\n\u001b[0m",
      "\u001b[1;31mAttributeError\u001b[0m: 'int' object has no attribute 'upper'"
     ]
    }
   ],
   "source": [
    "a=2\n",
    "a.upper()  #different tools for different types of variables (int, strings, bool or floats)"
   ]
  },
  {
   "cell_type": "code",
   "execution_count": 23,
   "id": "935350de",
   "metadata": {},
   "outputs": [
    {
     "data": {
      "text/plain": [
       "list"
      ]
     },
     "execution_count": 23,
     "metadata": {},
     "output_type": "execute_result"
    }
   ],
   "source": [
    "#Container Types - Lists, Turples,    (lists will be the one we'll use the most)\n",
    "#A container is a single object that encapsulates different types of variables, int, floats, bool, etc)\n",
    "\n",
    "type([5.0 , 'hello', 10 , True])   #this is a list"
   ]
  },
  {
   "cell_type": "code",
   "execution_count": 28,
   "id": "33797186",
   "metadata": {},
   "outputs": [
    {
     "name": "stdout",
     "output_type": "stream",
     "text": [
      "5.0\n"
     ]
    }
   ],
   "source": [
    "mylist = [5.0 , 'hello', 10 , True]\n",
    "print(mylist)"
   ]
  },
  {
   "cell_type": "code",
   "execution_count": 29,
   "id": "148fe2d0",
   "metadata": {},
   "outputs": [
    {
     "data": {
      "text/plain": [
       "True"
      ]
     },
     "execution_count": 29,
     "metadata": {},
     "output_type": "execute_result"
    }
   ],
   "source": [
    "mylist[3]  #this is indexing, where you just want a certain number of the list"
   ]
  },
  {
   "cell_type": "code",
   "execution_count": 31,
   "id": "be0e8008",
   "metadata": {},
   "outputs": [
    {
     "name": "stdout",
     "output_type": "stream",
     "text": [
      "True\n"
     ]
    },
    {
     "data": {
      "text/plain": [
       "bool"
      ]
     },
     "execution_count": 31,
     "metadata": {},
     "output_type": "execute_result"
    }
   ],
   "source": [
    "print(mylist[-1])  #choosing -1 is more modular, and suits any type of list, independening of list size;\n",
    "type(mylist[3])"
   ]
  },
  {
   "cell_type": "code",
   "execution_count": 32,
   "id": "567cee0e",
   "metadata": {},
   "outputs": [
    {
     "data": {
      "text/plain": [
       "4"
      ]
     },
     "execution_count": 32,
     "metadata": {},
     "output_type": "execute_result"
    }
   ],
   "source": [
    "len(mylist)"
   ]
  },
  {
   "cell_type": "code",
   "execution_count": 33,
   "id": "309bf1d5",
   "metadata": {},
   "outputs": [
    {
     "ename": "IndexError",
     "evalue": "list index out of range",
     "output_type": "error",
     "traceback": [
      "\u001b[1;31m---------------------------------------------------------------------------\u001b[0m",
      "\u001b[1;31mIndexError\u001b[0m                                Traceback (most recent call last)",
      "\u001b[1;32m<ipython-input-33-0bdaa37c27ca>\u001b[0m in \u001b[0;36m<module>\u001b[1;34m\u001b[0m\n\u001b[1;32m----> 1\u001b[1;33m \u001b[0mmylist\u001b[0m\u001b[1;33m[\u001b[0m\u001b[0mlen\u001b[0m\u001b[1;33m(\u001b[0m\u001b[0mmylist\u001b[0m\u001b[1;33m)\u001b[0m\u001b[1;33m]\u001b[0m\u001b[1;33m\u001b[0m\u001b[1;33m\u001b[0m\u001b[0m\n\u001b[0m",
      "\u001b[1;31mIndexError\u001b[0m: list index out of range"
     ]
    }
   ],
   "source": [
    "mylist[len(mylist)]   #this error will appear many times, it's common"
   ]
  },
  {
   "cell_type": "code",
   "execution_count": 47,
   "id": "82a0b6b1",
   "metadata": {},
   "outputs": [
    {
     "data": {
      "text/plain": [
       "['hello', True]"
      ]
     },
     "execution_count": 47,
     "metadata": {},
     "output_type": "execute_result"
    }
   ],
   "source": [
    "mylist[1::2]"
   ]
  },
  {
   "cell_type": "code",
   "execution_count": 48,
   "id": "a45db4b3",
   "metadata": {},
   "outputs": [
    {
     "data": {
      "text/plain": [
       "[5.0]"
      ]
     },
     "execution_count": 48,
     "metadata": {},
     "output_type": "execute_result"
    }
   ],
   "source": [
    "mylist[::5]"
   ]
  },
  {
   "cell_type": "code",
   "execution_count": 51,
   "id": "1cfff9ad",
   "metadata": {},
   "outputs": [
    {
     "name": "stdout",
     "output_type": "stream",
     "text": [
      "['January ', 'Mar', 'May', 'July', 'Aug', 'Oct', 'Dec']\n"
     ]
    }
   ],
   "source": [
    "test_list= ['January', 'Mar', 'May', 'July', 'Aug','Oct' ,'Dec']\n",
    "print(test_list)"
   ]
  },
  {
   "cell_type": "code",
   "execution_count": 56,
   "id": "5a6a556d",
   "metadata": {},
   "outputs": [
    {
     "name": "stdout",
     "output_type": "stream",
     "text": [
      "['Mar', 'Dec']\n"
     ]
    }
   ],
   "source": [
    "print(test_list[1::5])   #in print the result comes as a string; with display the result is a list "
   ]
  },
  {
   "cell_type": "code",
   "execution_count": 60,
   "id": "127f5060",
   "metadata": {},
   "outputs": [
    {
     "name": "stdout",
     "output_type": "stream",
     "text": [
      "In the\n"
     ]
    }
   ],
   "source": [
    "test_sentence = \"In the beginning the universe was created. This is widely regarded as a bad move and has made a lot of people angry.\"\n",
    "type(test_sentence)\n",
    "print(test_sentence[0:6])"
   ]
  },
  {
   "cell_type": "code",
   "execution_count": 72,
   "id": "856df8fe",
   "metadata": {},
   "outputs": [
    {
     "name": "stdout",
     "output_type": "stream",
     "text": [
      "angry\n"
     ]
    }
   ],
   "source": [
    "print(test_sentence[-6:-1])"
   ]
  },
  {
   "cell_type": "code",
   "execution_count": 82,
   "id": "c41f8a99",
   "metadata": {},
   "outputs": [
    {
     "data": {
      "text/plain": [
       "float"
      ]
     },
     "metadata": {},
     "output_type": "display_data"
    },
    {
     "name": "stdout",
     "output_type": "stream",
     "text": [
      "I am inside\n"
     ]
    },
    {
     "data": {
      "text/plain": [
       "str"
      ]
     },
     "metadata": {},
     "output_type": "display_data"
    },
    {
     "name": "stdout",
     "output_type": "stream",
     "text": [
      "I am inside\n"
     ]
    },
    {
     "data": {
      "text/plain": [
       "int"
      ]
     },
     "metadata": {},
     "output_type": "display_data"
    },
    {
     "name": "stdout",
     "output_type": "stream",
     "text": [
      "I am inside\n"
     ]
    },
    {
     "data": {
      "text/plain": [
       "bool"
      ]
     },
     "metadata": {},
     "output_type": "display_data"
    },
    {
     "name": "stdout",
     "output_type": "stream",
     "text": [
      "I am inside\n",
      "I am outside\n",
      "True\n"
     ]
    }
   ],
   "source": [
    "#Revision of Flow Control and Loops;\n",
    "\n",
    "mylist = [5.0 , 'guitar' , 10 , True]\n",
    "Types = []\n",
    "\n",
    "#I want to go inside the variable and ask the type for each of the arguments\n",
    "\n",
    "for element in mylist :\n",
    "    display(type(element))\n",
    "    print('I am inside')\n",
    "print('I am outside')\n",
    "print(element)   #it prints the last element, so \"True\""
   ]
  },
  {
   "cell_type": "code",
   "execution_count": 87,
   "id": "b202d0fb",
   "metadata": {},
   "outputs": [
    {
     "name": "stdout",
     "output_type": "stream",
     "text": [
      "Not an integer\n"
     ]
    }
   ],
   "source": [
    "#Conditional - If, elseif, else statement\n",
    "#a = 2 \n",
    "#a = 'hello'\n",
    "a = 2.0\n",
    "if type(a) == int: # this is called the conditional\n",
    "    print(a+1)\n",
    "else:\n",
    "    print('Not an integer')\n"
   ]
  },
  {
   "cell_type": "code",
   "execution_count": 93,
   "id": "3c513f0a",
   "metadata": {},
   "outputs": [
    {
     "name": "stdout",
     "output_type": "stream",
     "text": [
      "3.0\n"
     ]
    }
   ],
   "source": [
    "a = 'True'\n",
    "a = 2.0\n",
    "\n",
    "if(type(a) == int) or(type(a) == float):   # or is the same as |   and and is the same as &\n",
    "    print (a + 1)\n",
    "else:\n",
    "    print('choose and int or float')"
   ]
  },
  {
   "cell_type": "code",
   "execution_count": 103,
   "id": "661b8458",
   "metadata": {},
   "outputs": [
    {
     "data": {
      "text/plain": [
       "2"
      ]
     },
     "execution_count": 103,
     "metadata": {},
     "output_type": "execute_result"
    }
   ],
   "source": [
    "a = 2\n",
    "b = 5\n",
    "#divisions always provide a result in a float number\n",
    "# % is used to show the remaining of a division  (ex: 2%3)\n",
    "a%b"
   ]
  },
  {
   "cell_type": "code",
   "execution_count": 116,
   "id": "c761cdf8",
   "metadata": {},
   "outputs": [
    {
     "name": "stdout",
     "output_type": "stream",
     "text": [
      "these are all the a and b in my sentence: \n",
      "b\n",
      "a\n",
      "a\n",
      "a\n",
      "a\n",
      "a\n",
      "b\n",
      "a\n",
      "a\n",
      "a\n",
      "a\n",
      "a\n",
      "a\n"
     ]
    }
   ],
   "source": [
    "test_sentence = \"In the beginning the universe was created. This is widely regarded as a bad move and has made a lot of people angry.\"\n",
    "\n",
    "\n",
    "print ('these are all the a and b in my sentence: ')\n",
    "for letter in test_sentence:\n",
    "   if (letter == 'a') | (letter == 'b'):\n",
    "    print(letter)\n",
    "   else:\n",
    "    continue       #continue is to continue the loop without doing anything\n",
    "    #break        #break stops the loop when the first if is not correspondent"
   ]
  },
  {
   "cell_type": "code",
   "execution_count": 128,
   "id": "c1946b66",
   "metadata": {},
   "outputs": [
    {
     "name": "stdout",
     "output_type": "stream",
     "text": [
      "January\n",
      "MAR\n",
      "MAY\n",
      "July\n",
      "Aug\n",
      "Oct\n",
      "Dec\n"
     ]
    }
   ],
   "source": [
    "test_all_month= ['January','Feb', 'Mar','April', 'May','June', 'July', 'Aug','Sept','Oct', 'Nov' ,'Dec']   #use searching with jumpers\n",
    "test_list= ['January', 'Mar', 'May', 'July', 'Aug','Oct' ,'Dec']\n",
    "\n",
    "#for days in test_all_month:                        #DO THIS HOMEWORK\n",
    "  #   if days == test_list:\n",
    "   #     print(days)\n",
    "    # else:\n",
    "     #   continue\n",
    "\n",
    "for month in test_list:\n",
    "    if month[0].upper() == 'M':    # here we are asking that for month to month we ask to search ONLY the first letter with the letter M\n",
    "        print(month.upper())    #print the results all in upper cases\n",
    "    else :\n",
    "        print(month)"
   ]
  },
  {
   "cell_type": "code",
   "execution_count": 130,
   "id": "11634a73",
   "metadata": {},
   "outputs": [
    {
     "data": {
      "text/plain": [
       "[float, str, int, bool]"
      ]
     },
     "metadata": {},
     "output_type": "display_data"
    }
   ],
   "source": [
    "mylist = [5.0 , 'guitar', 10, True]\n",
    "type_list= []\n",
    "\n",
    "for  element in mylist:\n",
    "    type_list.append(type(element))   #for every loop it will insert in type_list, the type of the elements\n",
    "display(type_list)"
   ]
  },
  {
   "cell_type": "code",
   "execution_count": 131,
   "id": "70911bb8",
   "metadata": {},
   "outputs": [
    {
     "data": {
      "text/plain": [
       "[float, str, int, bool]"
      ]
     },
     "execution_count": 131,
     "metadata": {},
     "output_type": "execute_result"
    }
   ],
   "source": [
    "#we can write for loops in a more effecient way called LIST COMPREHENSION\n",
    "\n",
    "[type(thing) for thing in mylist]  #1st start by writing the for loop and then go back to the beginning and put what we want to know\n"
   ]
  },
  {
   "cell_type": "code",
   "execution_count": 134,
   "id": "0d887c47",
   "metadata": {},
   "outputs": [
    {
     "name": "stdout",
     "output_type": "stream",
     "text": [
      "1\n",
      "2\n",
      "3\n",
      "4\n",
      "eenie\n",
      "meenie\n",
      "miny\n",
      "moe\n",
      "True\n",
      "False\n",
      "True\n"
     ]
    }
   ],
   "source": [
    "#Nested loops\n",
    "\n",
    "cool_list = [[1,2,3,4], ['eenie', 'meenie', 'miny','moe'], [True , False , True]]  #eg, 1 is the first element for the first sublist and miny is the third element of the second sublist\n",
    "for sub_list in cool_list:\n",
    "    for element in sub_list:   #this second for loop searches for each element inside of sub_list and the print displays it\n",
    "        print(element)"
   ]
  },
  {
   "cell_type": "code",
   "execution_count": 139,
   "id": "a8d8ed51",
   "metadata": {},
   "outputs": [
    {
     "name": "stdout",
     "output_type": "stream",
     "text": [
      "6\n"
     ]
    }
   ],
   "source": [
    "#While loops\n",
    "\n",
    "i= 0\n",
    "\n",
    "while i < 6:\n",
    "    i = i +1 \n",
    "    print(i)"
   ]
  },
  {
   "cell_type": "code",
   "execution_count": 141,
   "id": "59425af5",
   "metadata": {},
   "outputs": [
    {
     "name": "stdout",
     "output_type": "stream",
     "text": [
      "1\n",
      "2\n",
      "3\n"
     ]
    },
    {
     "ename": "KeyboardInterrupt",
     "evalue": "",
     "output_type": "error",
     "traceback": [
      "\u001b[1;31m---------------------------------------------------------------------------\u001b[0m",
      "\u001b[1;31mKeyboardInterrupt\u001b[0m                         Traceback (most recent call last)",
      "\u001b[1;32m<ipython-input-141-960b35b4dfed>\u001b[0m in \u001b[0;36m<module>\u001b[1;34m\u001b[0m\n\u001b[0;32m      3\u001b[0m \u001b[1;32mwhile\u001b[0m \u001b[0mi\u001b[0m \u001b[1;33m<\u001b[0m \u001b[1;36m6\u001b[0m\u001b[1;33m:\u001b[0m\u001b[1;33m\u001b[0m\u001b[1;33m\u001b[0m\u001b[0m\n\u001b[0;32m      4\u001b[0m     \u001b[1;32mif\u001b[0m \u001b[0mi\u001b[0m \u001b[1;33m==\u001b[0m\u001b[1;36m3\u001b[0m\u001b[1;33m:\u001b[0m\u001b[1;33m\u001b[0m\u001b[1;33m\u001b[0m\u001b[0m\n\u001b[1;32m----> 5\u001b[1;33m         \u001b[1;32mcontinue\u001b[0m\u001b[1;33m\u001b[0m\u001b[1;33m\u001b[0m\u001b[0m\n\u001b[0m\u001b[0;32m      6\u001b[0m     \u001b[1;32melse\u001b[0m\u001b[1;33m:\u001b[0m\u001b[1;33m\u001b[0m\u001b[1;33m\u001b[0m\u001b[0m\n\u001b[0;32m      7\u001b[0m         \u001b[0mi\u001b[0m \u001b[1;33m=\u001b[0m \u001b[0mi\u001b[0m \u001b[1;33m+\u001b[0m\u001b[1;36m1\u001b[0m\u001b[1;33m\u001b[0m\u001b[1;33m\u001b[0m\u001b[0m\n",
      "\u001b[1;31mKeyboardInterrupt\u001b[0m: "
     ]
    }
   ],
   "source": [
    "i = 0\n",
    "\n",
    "while i < 6: \n",
    "    if i ==3:\n",
    "        continue\n",
    "    else:\n",
    "        i = i +1 \n",
    "        print(i)"
   ]
  },
  {
   "cell_type": "code",
   "execution_count": 150,
   "id": "30f4efab",
   "metadata": {},
   "outputs": [
    {
     "name": "stdout",
     "output_type": "stream",
     "text": [
      "1\n",
      "2\n"
     ]
    }
   ],
   "source": [
    "i= 0 \n",
    "\n",
    "while i < 6 : \n",
    "    i += 1\n",
    "    if i == 3:\n",
    "        break\n",
    "    print(i)\n",
    "   \n"
   ]
  },
  {
   "cell_type": "code",
   "execution_count": 143,
   "id": "1b2e3dda",
   "metadata": {},
   "outputs": [],
   "source": [
    "import math\n"
   ]
  },
  {
   "cell_type": "code",
   "execution_count": 145,
   "id": "75b4d61e",
   "metadata": {},
   "outputs": [
    {
     "data": {
      "text/plain": [
       "4.0"
      ]
     },
     "execution_count": 145,
     "metadata": {},
     "output_type": "execute_result"
    }
   ],
   "source": [
    "math.sqrt(16)\n"
   ]
  },
  {
   "cell_type": "code",
   "execution_count": 146,
   "id": "6bc76959",
   "metadata": {},
   "outputs": [
    {
     "ename": "ModuleNotFoundError",
     "evalue": "No module named 'seaport'",
     "output_type": "error",
     "traceback": [
      "\u001b[1;31m---------------------------------------------------------------------------\u001b[0m",
      "\u001b[1;31mModuleNotFoundError\u001b[0m                       Traceback (most recent call last)",
      "\u001b[1;32m<ipython-input-146-34b90e137c9f>\u001b[0m in \u001b[0;36m<module>\u001b[1;34m\u001b[0m\n\u001b[1;32m----> 1\u001b[1;33m \u001b[1;32mimport\u001b[0m \u001b[0mseaport\u001b[0m\u001b[1;33m\u001b[0m\u001b[1;33m\u001b[0m\u001b[0m\n\u001b[0m",
      "\u001b[1;31mModuleNotFoundError\u001b[0m: No module named 'seaport'"
     ]
    }
   ],
   "source": [
    "import seaport"
   ]
  },
  {
   "cell_type": "code",
   "execution_count": 147,
   "id": "606f20ca",
   "metadata": {},
   "outputs": [
    {
     "ename": "ModuleNotFoundError",
     "evalue": "No module named 'keras'",
     "output_type": "error",
     "traceback": [
      "\u001b[1;31m---------------------------------------------------------------------------\u001b[0m",
      "\u001b[1;31mModuleNotFoundError\u001b[0m                       Traceback (most recent call last)",
      "\u001b[1;32m<ipython-input-147-88d96843a926>\u001b[0m in \u001b[0;36m<module>\u001b[1;34m\u001b[0m\n\u001b[1;32m----> 1\u001b[1;33m \u001b[1;32mimport\u001b[0m \u001b[0mkeras\u001b[0m\u001b[1;33m\u001b[0m\u001b[1;33m\u001b[0m\u001b[0m\n\u001b[0m",
      "\u001b[1;31mModuleNotFoundError\u001b[0m: No module named 'keras'"
     ]
    }
   ],
   "source": [
    "import keras"
   ]
  },
  {
   "cell_type": "code",
   "execution_count": 151,
   "id": "fc09d293",
   "metadata": {},
   "outputs": [
    {
     "data": {
      "text/plain": [
       "4.0"
      ]
     },
     "execution_count": 151,
     "metadata": {},
     "output_type": "execute_result"
    }
   ],
   "source": [
    "import math as m\n",
    "\n",
    "m.sqrt(16)"
   ]
  },
  {
   "cell_type": "code",
   "execution_count": 152,
   "id": "7cd8dd2c",
   "metadata": {},
   "outputs": [
    {
     "data": {
      "text/plain": [
       "-0.8390715290764524"
      ]
     },
     "execution_count": 152,
     "metadata": {},
     "output_type": "execute_result"
    }
   ],
   "source": [
    "from math import cos   #we can import multiple functions using comma (,)  for eg from math import cos, sin, tan\n",
    "cos(10)"
   ]
  },
  {
   "cell_type": "code",
   "execution_count": 1,
   "id": "8d1f44ab",
   "metadata": {},
   "outputs": [
    {
     "name": "stdout",
     "output_type": "stream",
     "text": [
      "['January', 'Mar', 'May', 'July', 'Aug', 'Oct', 'Dec']\n"
     ]
    }
   ],
   "source": [
    "test_all_month= ['January','Feb', 'Mar','April', 'May','June', 'July', 'Aug','Sept','Oct', 'Nov' ,'Dec']   #use searching with jumpers\n",
    "test_list= ['January', 'Mar', 'May', 'July', 'Aug','Oct' ,'Dec']\n",
    "matches_31 = []\n",
    "\n",
    "for element in test_all_month:\n",
    "    if element in test_list:\n",
    "        matches_31.append(element)\n",
    "    else:\n",
    "        continue\n",
    "print(matches_31)\n"
   ]
  },
  {
   "cell_type": "code",
   "execution_count": null,
   "id": "f3741511",
   "metadata": {},
   "outputs": [],
   "source": []
  }
 ],
 "metadata": {
  "kernelspec": {
   "display_name": "Python 3",
   "language": "python",
   "name": "python3"
  },
  "language_info": {
   "codemirror_mode": {
    "name": "ipython",
    "version": 3
   },
   "file_extension": ".py",
   "mimetype": "text/x-python",
   "name": "python",
   "nbconvert_exporter": "python",
   "pygments_lexer": "ipython3",
   "version": "3.8.8"
  }
 },
 "nbformat": 4,
 "nbformat_minor": 5
}
